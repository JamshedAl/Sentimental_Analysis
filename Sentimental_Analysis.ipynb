{
  "cells": [
    {
      "cell_type": "markdown",
      "metadata": {
        "id": "view-in-github",
        "colab_type": "text"
      },
      "source": [
        "<a href=\"https://colab.research.google.com/github/JamshedAl/Sentimental_Analysis/blob/main/Sentimental_Analysis.ipynb\" target=\"_parent\"><img src=\"https://colab.research.google.com/assets/colab-badge.svg\" alt=\"Open In Colab\"/></a>"
      ]
    },
    {
      "cell_type": "code",
      "execution_count": null,
      "id": "d375563b",
      "metadata": {
        "colab": {
          "base_uri": "https://localhost:8080/"
        },
        "id": "d375563b",
        "outputId": "5b9d81a4-3660-4fc2-c4dd-0f82e68e6c1a"
      },
      "outputs": [
        {
          "output_type": "stream",
          "name": "stdout",
          "text": [
            "Looking in indexes: https://pypi.org/simple, https://us-python.pkg.dev/colab-wheels/public/simple/\n",
            "Requirement already satisfied: textBlob in /usr/local/lib/python3.10/dist-packages (0.17.1)\n",
            "Requirement already satisfied: nltk>=3.1 in /usr/local/lib/python3.10/dist-packages (from textBlob) (3.8.1)\n",
            "Requirement already satisfied: tqdm in /usr/local/lib/python3.10/dist-packages (from nltk>=3.1->textBlob) (4.65.0)\n",
            "Requirement already satisfied: click in /usr/local/lib/python3.10/dist-packages (from nltk>=3.1->textBlob) (8.1.3)\n",
            "Requirement already satisfied: joblib in /usr/local/lib/python3.10/dist-packages (from nltk>=3.1->textBlob) (1.2.0)\n",
            "Requirement already satisfied: regex>=2021.8.3 in /usr/local/lib/python3.10/dist-packages (from nltk>=3.1->textBlob) (2022.10.31)\n"
          ]
        }
      ],
      "source": [
        "pip install textBlob"
      ]
    },
    {
      "cell_type": "code",
      "execution_count": null,
      "id": "7f37a706",
      "metadata": {
        "id": "7f37a706"
      },
      "outputs": [],
      "source": [
        "from textblob import TextBlob\n",
        "\n",
        "def sentiment_scores(text):\n",
        "    blob = TextBlob(text)\n",
        "    sentiment = blob.sentiment.polarity\n",
        "    print(\"Overall sentiment polarity is: \", sentiment)\n",
        "    if sentiment > 0:\n",
        "        print(\"Positive\")\n",
        "    elif sentiment < 0:\n",
        "        print(\"Negative\")\n",
        "    else:\n",
        "        print(\"Neutral\")"
      ]
    },
    {
      "cell_type": "code",
      "execution_count": null,
      "id": "07da494d",
      "metadata": {
        "colab": {
          "base_uri": "https://localhost:8080/"
        },
        "id": "07da494d",
        "outputId": "e025be51-e9c7-4134-9b65-482ff9e755ab"
      },
      "outputs": [
        {
          "output_type": "stream",
          "name": "stdout",
          "text": [
            "\n",
            "1st Statement :\n",
            "Overall sentiment polarity is:  0.2166666666666667\n",
            "Positive\n",
            "\n",
            "2nd Statement :\n",
            "Overall sentiment polarity is:  0.5\n",
            "Positive\n",
            "\n",
            "3nd Statement :\n",
            "Overall sentiment polarity is:  0.06666666666666667\n",
            "Positive\n"
          ]
        }
      ],
      "source": [
        "print(\"\\n1st Statement :\")\n",
        "text = \"Beautiful is better than ugly.\"\n",
        "sentiment_scores(text)\n",
        "\n",
        "print(\"\\n2nd Statement :\")\n",
        "text = \"Explicit is better than implicit.\"\n",
        "sentiment_scores(text)\n",
        "\n",
        "print(\"\\n3nd Statement :\")\n",
        "text = \"Simple is better than complex.\"\n",
        "sentiment_scores(text)"
      ]
    },
    {
      "cell_type": "code",
      "execution_count": null,
      "id": "4210221d",
      "metadata": {
        "id": "4210221d",
        "colab": {
          "base_uri": "https://localhost:8080/"
        },
        "outputId": "7b024396-27d8-40d2-cb96-b0da7b491a8b"
      },
      "outputs": [
        {
          "output_type": "stream",
          "name": "stdout",
          "text": [
            "Looking in indexes: https://pypi.org/simple, https://us-python.pkg.dev/colab-wheels/public/simple/\n",
            "Requirement already satisfied: vaderSentiment in /usr/local/lib/python3.10/dist-packages (3.3.2)\n",
            "Requirement already satisfied: requests in /usr/local/lib/python3.10/dist-packages (from vaderSentiment) (2.27.1)\n",
            "Requirement already satisfied: charset-normalizer~=2.0.0 in /usr/local/lib/python3.10/dist-packages (from requests->vaderSentiment) (2.0.12)\n",
            "Requirement already satisfied: idna<4,>=2.5 in /usr/local/lib/python3.10/dist-packages (from requests->vaderSentiment) (3.4)\n",
            "Requirement already satisfied: urllib3<1.27,>=1.21.1 in /usr/local/lib/python3.10/dist-packages (from requests->vaderSentiment) (1.26.15)\n",
            "Requirement already satisfied: certifi>=2017.4.17 in /usr/local/lib/python3.10/dist-packages (from requests->vaderSentiment) (2022.12.7)\n"
          ]
        }
      ],
      "source": [
        "pip install vaderSentiment"
      ]
    },
    {
      "cell_type": "code",
      "execution_count": null,
      "id": "a5f3a33a",
      "metadata": {
        "id": "a5f3a33a"
      },
      "outputs": [],
      "source": [
        "from vaderSentiment.vaderSentiment import SentimentIntensityAnalyzer\n",
        "def sentiment_scores(sentence):\n",
        "  sid_obj = SentimentIntensityAnalyzer()\n",
        "  sentiment_dict = sid_obj.polarity_scores(sentence)\n",
        "  print(\"Overall Sentiment dictionary is \",sentiment_dict)\n",
        "  print(\"Sentence was rated as \",sentiment_dict['neg']*100, \"% Negative\")\n",
        "  print(\"Sentence was rated as \",sentiment_dict['neu']*100, \"% Neutral\")\n",
        "  print(\"Sentence was rated as \",sentiment_dict['pos']*100, \"% Positive\")\n",
        "  print(\"Sentence overall Rated As \", end = \"\")\n",
        "  if sentiment_dict['compound'] >= 0.05:\n",
        "        print(\"Positive\")\n",
        "  elif sentiment_dict['compound'] <= -0.05:\n",
        "        print(\"Negative\")\n",
        "  else:\n",
        "        print(\"Neutral\")"
      ]
    },
    {
      "cell_type": "code",
      "source": [
        "print(\"\\n1st Statement :\")\n",
        "sentence = \"Beautiful is better than ugly.\"\n",
        "sentiment_scores(sentence)\n",
        "\n",
        "print(\"\\n2nd Statement :\")\n",
        "sentence = \"Explicit is better than implicit.\"\n",
        "sentiment_scores(sentence)\n",
        "\n",
        "print(\"\\n3nd Statement :\")\n",
        "sentence = \"Simple is better than complex.\"\n",
        "sentiment_scores(sentence)"
      ],
      "metadata": {
        "colab": {
          "base_uri": "https://localhost:8080/"
        },
        "id": "6zw4K3uvXZsp",
        "outputId": "ad55cd88-7447-4cdc-82fb-efa29ecb34d1"
      },
      "id": "6zw4K3uvXZsp",
      "execution_count": null,
      "outputs": [
        {
          "output_type": "stream",
          "name": "stdout",
          "text": [
            "\n",
            "1st Statement :\n",
            "Overall Sentiment dictionary is  {'neg': 0.273, 'neu': 0.165, 'pos': 0.562, 'compound': 0.5423}\n",
            "Sentence was rated as  27.3 % Negative\n",
            "Sentence was rated as  16.5 % Neutral\n",
            "Sentence was rated as  56.2 % Positive\n",
            "Sentence overall Rated As Positive\n",
            "\n",
            "2nd Statement :\n",
            "Overall Sentiment dictionary is  {'neg': 0.0, 'neu': 0.58, 'pos': 0.42, 'compound': 0.4404}\n",
            "Sentence was rated as  0.0 % Negative\n",
            "Sentence was rated as  57.99999999999999 % Neutral\n",
            "Sentence was rated as  42.0 % Positive\n",
            "Sentence overall Rated As Positive\n",
            "\n",
            "3nd Statement :\n",
            "Overall Sentiment dictionary is  {'neg': 0.0, 'neu': 0.58, 'pos': 0.42, 'compound': 0.4404}\n",
            "Sentence was rated as  0.0 % Negative\n",
            "Sentence was rated as  57.99999999999999 % Neutral\n",
            "Sentence was rated as  42.0 % Positive\n",
            "Sentence overall Rated As Positive\n"
          ]
        }
      ]
    }
  ],
  "metadata": {
    "kernelspec": {
      "display_name": "Python 3 (ipykernel)",
      "language": "python",
      "name": "python3"
    },
    "language_info": {
      "codemirror_mode": {
        "name": "ipython",
        "version": 3
      },
      "file_extension": ".py",
      "mimetype": "text/x-python",
      "name": "python",
      "nbconvert_exporter": "python",
      "pygments_lexer": "ipython3",
      "version": "3.9.13"
    },
    "colab": {
      "provenance": [],
      "include_colab_link": true
    }
  },
  "nbformat": 4,
  "nbformat_minor": 5
}